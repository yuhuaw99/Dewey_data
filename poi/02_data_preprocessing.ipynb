{
 "cells": [
  {
   "cell_type": "code",
   "execution_count": 7,
   "metadata": {},
   "outputs": [],
   "source": [
    "import pandas as pd\n",
    "import os\n",
    "import ast\n",
    "import geopandas as gpd"
   ]
  },
  {
   "cell_type": "code",
   "execution_count": 2,
   "metadata": {},
   "outputs": [],
   "source": [
    "# poi_category and its naics code\n",
    "poi_category = {\n",
    "    '445': 'Maintenance', # Supermarket, food retailer, liquor\n",
    "    '449': 'Matainance', # Furniture and appliance\n",
    "    '455': 'Maintenance', # Department store, warehouse clubs\n",
    "    '456': 'Health', # Health and personal care store\n",
    "    '458': 'Maintenance', # Clothing, shoe, and jewelry\n",
    "    '459': 'Maintenance', # Sporting goods, hobby, musical instrument, etc.\n",
    "    '611': 'Education', # Schools, colleges, etc.\n",
    "    '621': 'Health', # Ambulatory health care\n",
    "    '622': 'Health', # Hospitals\n",
    "    '623': 'Health', # Nursing \n",
    "    '624': 'Health', # Social assistance\n",
    "    '711': 'Recreation', # Performing arts\n",
    "    '712': 'Recreation', # Museum\n",
    "    '713': 'Recreation', # Amusement\n",
    "    '722': 'Dining', # Food services\n",
    "    '811': 'Maintenance', # Repair and maintenance\n",
    "    '812': 'Maintenance', # Personal care, laundry, etc\n",
    "    '813': 'Maintenance' # 'Religious'\n",
    "}\n",
    "\n",
    "poi_category_list = ['Maintenance', 'Health', 'Education', 'Recreation', 'Dining']"
   ]
  },
  {
   "cell_type": "markdown",
   "metadata": {},
   "source": [
    "## Read bg "
   ]
  },
  {
   "cell_type": "code",
   "execution_count": 8,
   "metadata": {},
   "outputs": [],
   "source": [
    "bg = gpd.read_file('../../General_data/bg_10.gpkg')"
   ]
  },
  {
   "cell_type": "markdown",
   "metadata": {},
   "source": [
    "## Aggregate poi into bg"
   ]
  },
  {
   "cell_type": "code",
   "execution_count": 25,
   "metadata": {},
   "outputs": [],
   "source": [
    "def read_file(file_path):\n",
    "    df = pd.read_csv('2024/' + file_path, dtype={'NAICS_CODE':'str'})\n",
    "    df.columns = df.columns.str.lower()\n",
    "    df = df[['naics_code', 'longitude', 'latitude']]\n",
    "    return df\n",
    "\n",
    "\n",
    "def get_naics_short(x):\n",
    "    return str(x)[:3]\n",
    "\n",
    "\n",
    "def gen_category(df, poi_category=poi_category):\n",
    "    df.loc[:, 'naics_short'] = df['naics_code'].apply(get_naics_short)\n",
    "    df.loc[:, 'category'] = df['naics_short'].replace(poi_category)\n",
    "    df = df[df['category'].isin(poi_category_list)]\n",
    "    df = df[['category','latitude', 'longitude']]\n",
    "    return df\n",
    "\n",
    "def aggregate(df, bg=bg):\n",
    "    df = gpd.GeoDataFrame(\n",
    "        df, \n",
    "        geometry=gpd.points_from_xy(df['longitude'], df['latitude']),\n",
    "        crs=\"EPSG:4269\"  # CRS equivalent to EPSG 4269 (NAD83)\n",
    "        )\n",
    "    intersect = gpd.overlay(df, bg, how='intersection')\n",
    "    df = intersect.groupby(['GEOID', 'category']).agg(count=('geometry','count')).reset_index()\n",
    "    df = df.pivot(index='GEOID', columns='category', values='count').reset_index()\n",
    "    df = df.fillna(0)\n",
    "    return df\n",
    "\n",
    "def preprocess(df, bg=bg, poi_category=poi_category):\n",
    "    df = gen_category(df)\n",
    "    df = aggregate(df)\n",
    "    return df\n",
    "\n",
    "def write_file(df, file_path):\n",
    "    df.to_csv(file_path)\n"
   ]
  },
  {
   "cell_type": "markdown",
   "metadata": {},
   "source": [
    "## Example"
   ]
  },
  {
   "cell_type": "code",
   "execution_count": 24,
   "metadata": {},
   "outputs": [],
   "source": [
    "file = os.listdir('2024')[0]\n",
    "\n",
    "df = read_file(file)\n",
    "df = preprocess(df)"
   ]
  }
 ],
 "metadata": {
  "kernelspec": {
   "display_name": "Python 3",
   "language": "python",
   "name": "python3"
  },
  "language_info": {
   "codemirror_mode": {
    "name": "ipython",
    "version": 3
   },
   "file_extension": ".py",
   "mimetype": "text/x-python",
   "name": "python",
   "nbconvert_exporter": "python",
   "pygments_lexer": "ipython3",
   "version": "3.12.7"
  }
 },
 "nbformat": 4,
 "nbformat_minor": 2
}
