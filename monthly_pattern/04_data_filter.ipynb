{
 "cells": [
  {
   "cell_type": "code",
   "execution_count": 1,
   "metadata": {},
   "outputs": [],
   "source": [
    "import pandas as pd\n",
    "import os"
   ]
  },
  {
   "cell_type": "code",
   "execution_count": 23,
   "metadata": {},
   "outputs": [],
   "source": [
    "# read msa2county cross walk \n",
    "msa_county_cw = pd.read_excel('cbsa2fipsxw.xlsx')\n",
    "\n",
    "# select only msa \n",
    "msa_county_cw = msa_county_cw[msa_county_cw['metropolitanmicropolitanstatis']=='Metropolitan Statistical Area']\n",
    "\n",
    "# create county column\n",
    "msa_county_cw.loc[:, 'countyfips'] = msa_county_cw['fipsstatecode'].apply(lambda x: str(x).zfill(2)) + msa_county_cw['fipscountycode'].apply(lambda x: str(x).zfill(3))\n",
    "\n",
    "# select needed column\n",
    "msa_county_cw = msa_county_cw[['cbsatitle', 'countyfips']]\n",
    "\n",
    "# transform to dict\n",
    "msa_county_cw = dict(zip(msa_county_cw['countyfips'], msa_county_cw['cbsatitle']))"
   ]
  },
  {
   "cell_type": "code",
   "execution_count": 2,
   "metadata": {},
   "outputs": [],
   "source": [
    "# list all files need to be filtered\n",
    "files = os.listdir('2024_Jan-May_monthly')"
   ]
  },
  {
   "cell_type": "code",
   "execution_count": null,
   "metadata": {},
   "outputs": [],
   "source": [
    "for file in files:\n",
    "    # read month mobility pattern\n",
    "    df_mp = pd.read_csv('2024_Jan-May_monthly/'+files[0], dtype={'category':'category'}) # save memory use by pre-assign column type\n",
    "\n",
    "    # get county fipscode for both poi and bg\n",
    "    df_mp.loc[:, 'poi_county'] = df_mp['poi_cbg'].apply(lambda x: str(int(x)).zfill(12)[0:5])\n",
    "    df_mp.loc[:, 'bg_county'] = df_mp['visitor_home_cbgs'].apply(lambda x: str(x).zfill(12)[0:5])\n",
    "\n",
    "    # get msa for both poi and bg\n",
    "    df_mp.loc[:, 'poi_msa'] = df_mp['poi_county'].map(msa_county_cw)\n",
    "    df_mp.loc[:, 'bg_msa'] = df_mp['bg_county'].map(msa_county_cw)\n",
    "\n",
    "    # filter data within each msa\n",
    "    df_mp = df_mp[df_mp['poi_msa'] == df_mp['bg_msa']]\n",
    "\n",
    "    # save file to disk\n",
    "    df_mp.rename(columns={'bg_msa':'msa'}, inplace=True)\n",
    "    df_mp = df_mp[['poi_cbg', 'category', 'visitor_home_cbgs', 'visitor_count','msa']]\n",
    "    df_mp.to_csv('2024_monthly_msa/'+file)"
   ]
  },
  {
   "cell_type": "code",
   "execution_count": null,
   "metadata": {},
   "outputs": [],
   "source": []
  }
 ],
 "metadata": {
  "kernelspec": {
   "display_name": "base",
   "language": "python",
   "name": "python3"
  },
  "language_info": {
   "codemirror_mode": {
    "name": "ipython",
    "version": 3
   },
   "file_extension": ".py",
   "mimetype": "text/x-python",
   "name": "python",
   "nbconvert_exporter": "python",
   "pygments_lexer": "ipython3",
   "version": "3.11.10"
  }
 },
 "nbformat": 4,
 "nbformat_minor": 2
}
