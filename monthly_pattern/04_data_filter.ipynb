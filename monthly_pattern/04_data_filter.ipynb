{
 "cells": [
  {
   "cell_type": "code",
   "execution_count": 1,
   "metadata": {},
   "outputs": [],
   "source": [
    "import pandas as pd\n",
    "import os\n",
    "from census import Census"
   ]
  },
  {
   "cell_type": "markdown",
   "metadata": {},
   "source": [
    "## Top 100 largest MSA"
   ]
  },
  {
   "cell_type": "code",
   "execution_count": 23,
   "metadata": {},
   "outputs": [],
   "source": [
    "# set up for census\n",
    "API_KEY = \"c45c87b10be4ee416ac0e7acde8def5fb840398c\"\n",
    "c = Census(API_KEY)\n",
    "\n",
    "employment_var = 'B01003_001E'\n",
    "\n",
    "# get census data\n",
    "msa_employment = c.acs5.get(\n",
    "    ('NAME', employment_var),\n",
    "    {'for': 'metropolitan statistical area/micropolitan statistical area:*'}\n",
    ")\n",
    "\n",
    "# select top 100\n",
    "msa_100 = pd.DataFrame(msa_employment).sort_values(by=employment_var, ascending=False).head(100)\n",
    "\n",
    "# rename column\n",
    "msa_100.columns = ['msa', 'pop', 'cbsacode']\n",
    "\n",
    "# change column type\n",
    "msa_100.loc[:, 'cbsacode'] = msa_100['cbsacode'].astype('int64')\n"
   ]
  },
  {
   "cell_type": "markdown",
   "metadata": {},
   "source": [
    "## MSA county crosswalk"
   ]
  },
  {
   "cell_type": "code",
   "execution_count": 24,
   "metadata": {},
   "outputs": [],
   "source": [
    "# read msa2county cross walk \n",
    "msa_county_cw = pd.read_excel('cbsa2fipsxw.xlsx')\n",
    "\n",
    "# select only msa \n",
    "msa_county_cw = msa_county_cw[msa_county_cw['metropolitanmicropolitanstatis']=='Metropolitan Statistical Area']\n",
    "\n",
    "# create county column\n",
    "msa_county_cw.loc[:, 'countyfips'] = msa_county_cw['fipsstatecode'].apply(lambda x: str(x).zfill(2)) + msa_county_cw['fipscountycode'].apply(lambda x: str(x).zfill(3))\n",
    "\n",
    "# select needed column\n",
    "msa_county_cw = msa_county_cw[['cbsacode', 'countyfips']]\n",
    "\n",
    "\n",
    "# filter cw\n",
    "msa_county_cw = msa_county_cw[msa_county_cw['cbsacode'].isin(msa_100['cbsacode'])]\n",
    "\n",
    "# transform to dict\n",
    "msa_county_cw = dict(zip(msa_county_cw['countyfips'], msa_county_cw['cbsacode']))"
   ]
  },
  {
   "cell_type": "markdown",
   "metadata": {},
   "source": [
    "## Filter mobility data"
   ]
  },
  {
   "cell_type": "code",
   "execution_count": null,
   "metadata": {},
   "outputs": [],
   "source": [
    "# list all files need to be filtered\n",
    "files = os.listdir('2024_monthly')\n",
    "\n",
    "# filter mobility data for each month\n",
    "for file in files:\n",
    "    # read month mobility pattern\n",
    "    df_mp = pd.read_csv('2024_monthly/'+file, dtype={'category':'category'}) # save memory use by pre-assign column type\n",
    "\n",
    "    # get county fipscode for both poi and bg\n",
    "    df_mp.loc[:, 'poi_county'] = df_mp['poi_cbg'].apply(lambda x: str(x).zfill(12)[0:5])\n",
    "    df_mp.loc[:, 'bg_county'] = df_mp['visitor_home_cbgs'].apply(lambda x: str(x).zfill(12)[0:5])\n",
    "\n",
    "    # get msa for both poi and bg\n",
    "    df_mp.loc[:, 'poi_msa'] = df_mp['poi_county'].map(msa_county_cw)\n",
    "    df_mp.loc[:, 'bg_msa'] = df_mp['bg_county'].map(msa_county_cw)\n",
    "\n",
    "    # filter data within each msa\n",
    "    df_mp = df_mp[df_mp['poi_msa'] == df_mp['bg_msa']]\n",
    "\n",
    "    # save file to disk\n",
    "    df_mp.rename(columns={'bg_msa':'msa'}, inplace=True)\n",
    "    df_mp = df_mp[['poi_cbg', 'category', 'visitor_home_cbgs', 'visitor_count','msa', 'id']]\n",
    "    df_mp.to_csv('2024_monthly_msa/'+file)"
   ]
  },
  {
   "cell_type": "code",
   "execution_count": null,
   "metadata": {},
   "outputs": [],
   "source": []
  }
 ],
 "metadata": {
  "kernelspec": {
   "display_name": "Python 3",
   "language": "python",
   "name": "python3"
  },
  "language_info": {
   "codemirror_mode": {
    "name": "ipython",
    "version": 3
   },
   "file_extension": ".py",
   "mimetype": "text/x-python",
   "name": "python",
   "nbconvert_exporter": "python",
   "pygments_lexer": "ipython3",
   "version": "3.12.7"
  }
 },
 "nbformat": 4,
 "nbformat_minor": 2
}
