{
 "cells": [
  {
   "cell_type": "code",
   "execution_count": 1,
   "metadata": {},
   "outputs": [],
   "source": [
    "import pandas as pd\n",
    "import os\n",
    "import ast\n",
    "from joblib import Parallel, delayed, parallel_backend"
   ]
  },
  {
   "cell_type": "markdown",
   "metadata": {},
   "source": [
    "## Set up"
   ]
  },
  {
   "cell_type": "code",
   "execution_count": 2,
   "metadata": {},
   "outputs": [],
   "source": [
    "# poi_category and its naics code\n",
    "poi_category = {\n",
    "    '445': 'Maintenance', # Supermarket, food retailer, liquor\n",
    "    '449': 'Matainance', # Furniture and appliance\n",
    "    '455': 'Maintenance', # Department store, warehouse clubs\n",
    "    '456': 'Health', # Health and personal care store\n",
    "    '458': 'Maintenance', # Clothing, shoe, and jewelry\n",
    "    '459': 'Maintenance', # Sporting goods, hobby, musical instrument, etc.\n",
    "    '611': 'Education', # Schools, colleges, etc.\n",
    "    '621': 'Health', # Ambulatory health care\n",
    "    '622': 'Health', # Hospitals\n",
    "    '623': 'Health', # Nursing \n",
    "    '624': 'Health', # Social assistance\n",
    "    '711': 'Recreation', # Performing arts\n",
    "    '712': 'Recreation', # Museum\n",
    "    '713': 'Recreation', # Amusement\n",
    "    '722': 'Dining', # Food services\n",
    "    '811': 'Maintenance', # Repair and maintenance\n",
    "    '812': 'Maintenance', # Personal care, laundry, etc\n",
    "    '813': 'Maintenance' # 'Religious'\n",
    "}\n",
    "\n",
    "poi_category_list = ['Maintenance', 'Health', 'Education', 'Recreation', 'Dining']"
   ]
  },
  {
   "cell_type": "markdown",
   "metadata": {},
   "source": [
    "create function to enable multiprocessing"
   ]
  },
  {
   "cell_type": "code",
   "execution_count": 3,
   "metadata": {},
   "outputs": [],
   "source": [
    "# read file and extract requried field\n",
    "def read_file(file_path):\n",
    "    df = pd.read_csv(file_path, compression='gzip')\n",
    "    df.columns = df.columns.str.lower()\n",
    "    df = df[['naics_code', 'poi_cbg', 'visitor_home_cbgs']]\n",
    "    df = df.dropna()\n",
    "    return df\n",
    "\n",
    "# replace lambda funtion with named function\n",
    "def get_naics_short(x):\n",
    "    return str(x)[:3]\n",
    "\n",
    "def join_strings(x):\n",
    "    return ','.join(x)\n",
    "\n",
    "def get_dict_values(d):\n",
    "    return list(d.values())\n",
    "\n",
    "def get_dict_keys(d):\n",
    "    return list(d.keys())\n",
    "\n",
    "\n",
    "# replace category and filter out needed ones\n",
    "def gen_category(df, poi_category=poi_category):\n",
    "    df.loc[:, 'naics_short'] = df['naics_code'].apply(get_naics_short)\n",
    "    df.loc[:, 'category'] = df['naics_short'].replace(poi_category)\n",
    "    df = df[df['category'].isin(poi_category_list)]\n",
    "    df = df[['category','poi_cbg', 'visitor_home_cbgs']]\n",
    "    return df\n",
    "\n",
    "\n",
    "# aggregate poi level data to bg level \n",
    "def aggregate(df):\n",
    "    df = df.groupby(['poi_cbg', 'category']).agg(join_strings).reset_index()\n",
    "    df.loc[:, 'visitor_home_cbgs'] = df['visitor_home_cbgs'].str.replace(r'(?<=.)[{}](?=.)', '', regex=True) # Use regex to remove any { or } that is not at the start or end\n",
    "    return df\n",
    "\n",
    "\n",
    "# transform original dataframe to od dataframe\n",
    "def transform_od(df):\n",
    "    df.loc[:, 'visitor_home_cbgs'] = df['visitor_home_cbgs'].apply(ast.literal_eval)\n",
    "    df['visitor_count'] = df['visitor_home_cbgs'].apply(get_dict_values)\n",
    "    df['visitor_home_cbgs'] = df['visitor_home_cbgs'].apply(get_dict_keys)\n",
    "    df = df.explode(['visitor_home_cbgs', 'visitor_count'])\n",
    "    return df\n",
    "\n",
    "\n",
    "# wrap function for preprocess\n",
    "def preprocess(df, poi_category=poi_category):\n",
    "    df = gen_category(df, poi_category)\n",
    "    df = aggregate(df)\n",
    "    df = transform_od(df)\n",
    "    return df \n",
    "\n",
    "\n",
    "# write csv to file\n",
    "def write_file(df, file_path):\n",
    "    df.to_csv(file_path)\n",
    "\n",
    "\n",
    "# wrap funtion for all\n",
    "def excute(file_path_list):\n",
    "    df = read_file(file_path_list[0])\n",
    "    df = preprocess(df)\n",
    "    write_file(df, file_path_list[1])\n"
   ]
  },
  {
   "cell_type": "markdown",
   "metadata": {},
   "source": [
    "## Iterate on each raw file and save to prepocess folder"
   ]
  },
  {
   "cell_type": "code",
   "execution_count": 4,
   "metadata": {},
   "outputs": [],
   "source": [
    "in_file_list = [file for file in os.listdir('2024') if 'Foot' in file]\n",
    "out_file_list = [file[:-3] for file in in_file_list]\n",
    "file_list = list(zip(in_file_list, out_file_list))\n",
    "file_list = [[f'2024/{x}', f'2024_preprocessed/{y}'] for x,y in file_list]"
   ]
  },
  {
   "cell_type": "code",
   "execution_count": 5,
   "metadata": {},
   "outputs": [],
   "source": [
    "cpu_cores = os.cpu_count()"
   ]
  }
 ],
 "metadata": {
  "kernelspec": {
   "display_name": "Python 3",
   "language": "python",
   "name": "python3"
  },
  "language_info": {
   "codemirror_mode": {
    "name": "ipython",
    "version": 3
   },
   "file_extension": ".py",
   "mimetype": "text/x-python",
   "name": "python",
   "nbconvert_exporter": "python",
   "pygments_lexer": "ipython3",
   "version": "3.12.7"
  }
 },
 "nbformat": 4,
 "nbformat_minor": 2
}
